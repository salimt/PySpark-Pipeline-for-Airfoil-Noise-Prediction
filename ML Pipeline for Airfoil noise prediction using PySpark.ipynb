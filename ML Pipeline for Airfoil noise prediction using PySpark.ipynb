{
  "cells": [
    {
      "cell_type": "markdown",
      "metadata": {
        "id": "MnsXVLuPDK0h"
      },
      "source": [
        "<p style=\"text-align:center\">\n",
        "    <a href=\"https://github.com/salimt\">\n",
        "    <img src=\"https://i.imgur.com/7bgtWRh.jpeg\" width=\"200\" alt=\"Skills Network Logo\">\n",
        "    </a>\n",
        "</p>\n"
      ]
    },
    {
      "cell_type": "markdown",
      "metadata": {
        "id": "144hyHyQDK0x"
      },
      "source": [
        "## ML Pipeline for Airfoil noise prediction using PySpark\n"
      ]
    },
    {
      "cell_type": "markdown",
      "metadata": {
        "id": "nsf2-nQLDK0y"
      },
      "source": [
        "## Scenario\n"
      ]
    },
    {
      "cell_type": "markdown",
      "metadata": {
        "id": "dr_2PsEMDK00"
      },
      "source": [
        "As a data engineer at an aeronautics consulting firm renowned for its efficient airfoil design for planes and sports cars, my role involves facilitating data preparation and constructing machine learning pipelines. In this project, we'll be working with a modified version of the NASA Airfoil Self Noise dataset. Our objective is to clean the dataset by removing duplicate rows and eliminating any entries with null values. Subsequently, we'll develop a machine learning pipeline to create a predictive model that estimates sound levels based on all other available columns. Following model evaluation, we'll finalize the process by persisting the model for future use."
      ]
    },
    {
      "cell_type": "markdown",
      "metadata": {
        "id": "0JvWz6KGDK02"
      },
      "source": [
        "## Objectives\n",
        "\n",
        "### Part 1: Execute ETL Operations\n",
        "- Load a CSV dataset.\n",
        "- Eliminate any duplicate entries.\n",
        "- Remove rows containing null values.\n",
        "- Apply necessary transformations.\n",
        "- Save the cleansed data in the Parquet format.\n",
        "\n",
        "### Part 2: Construct a Machine Learning Pipeline\n",
        "- Develop a machine learning pipeline for prediction.\n",
        "\n",
        "### Part 3: Assess the Model\n",
        "- Assess the model's performance using appropriate metrics.\n",
        "\n",
        "### Part 4: Preserve the Model\n",
        "- Save the model for future deployment purposes.\n",
        "- Load and validate the stored model.\n",
        "\n"
      ]
    },
    {
      "cell_type": "markdown",
      "metadata": {
        "id": "c5_9UKC6DK02"
      },
      "source": [
        "## Datasets\n",
        "\n",
        " - The original dataset can be found here NASA airfoil self noise dataset. https://archive.ics.uci.edu/dataset/291/airfoil+self+noise"
      ]
    },
    {
      "cell_type": "markdown",
      "metadata": {
        "id": "GQ5hBgzhDK03"
      },
      "source": [
        "Diagram of an airfoil. - For informational purpose\n"
      ]
    },
    {
      "cell_type": "markdown",
      "metadata": {
        "id": "nq9lkUMxDK04"
      },
      "source": [
        "![Airfoil with flow](https://cf-courses-data.s3.us.cloud-object-storage.appdomain.cloud/IBMSkillsNetwork-BD0231EN-Coursera/images/Airfoil_with_flow.png)\n"
      ]
    },
    {
      "cell_type": "markdown",
      "metadata": {
        "id": "24ZdTL8NDK06"
      },
      "source": [
        "Diagram showing the Angle of attack. - For informational purpose\n"
      ]
    },
    {
      "cell_type": "markdown",
      "metadata": {
        "id": "fcWNr-RiDK07"
      },
      "source": [
        "![Airfoil angle of attack](https://cf-courses-data.s3.us.cloud-object-storage.appdomain.cloud/IBMSkillsNetwork-BD0231EN-Coursera/images/Airfoil_angle_of_attack.jpg)\n"
      ]
    },
    {
      "cell_type": "markdown",
      "metadata": {
        "id": "F_dMyjd3DK09"
      },
      "source": [
        "## Setup\n"
      ]
    },
    {
      "cell_type": "markdown",
      "metadata": {
        "id": "NYY5bofuDK0-"
      },
      "source": [
        "*   [`PySpark`](https://spark.apache.org/docs/latest/api/python/index.html?utm_medium=Exinfluencer&utm_source=Exinfluencer&utm_content=000026UJ&utm_term=10006555&utm_id=NA-SkillsNetwork-Channel-SkillsNetworkCoursesIBMSkillsNetworkBD0231ENCoursera2789-2023-01-01) for connecting to the Spark Cluster\n"
      ]
    },
    {
      "cell_type": "markdown",
      "metadata": {
        "id": "Q-Ah6WcjDK0_"
      },
      "source": [
        "### Installing Required Libraries\n"
      ]
    },
    {
      "cell_type": "code",
      "execution_count": 3,
      "metadata": {
        "tags": [],
        "id": "6LzuyyS9DK0_"
      },
      "outputs": [],
      "source": [
        "!pip install pyspark==3.1.2 -q\n",
        "!pip install findspark -q"
      ]
    },
    {
      "cell_type": "markdown",
      "metadata": {
        "id": "d-Bacl7NDK1C"
      },
      "source": [
        "### Importing Required Libraries"
      ]
    },
    {
      "cell_type": "code",
      "execution_count": 4,
      "metadata": {
        "tags": [],
        "id": "y-9LkzGJDK1C"
      },
      "outputs": [],
      "source": [
        "def warn(*args, **kwargs):\n",
        "    pass\n",
        "import warnings\n",
        "warnings.warn = warn\n",
        "warnings.filterwarnings('ignore')\n",
        "import numpy as np\n",
        "import pandas as pd\n",
        "from pyspark.sql import SparkSession\n",
        "import findspark\n",
        "\n",
        "findspark.init()"
      ]
    },
    {
      "cell_type": "markdown",
      "metadata": {
        "id": "inzGkrIwDK1D"
      },
      "source": [
        "## Part 1 - Perform ETL activity\n"
      ]
    },
    {
      "cell_type": "markdown",
      "metadata": {
        "tags": [],
        "id": "qV4Z9j90DK1D"
      },
      "source": [
        "### Create a spark session\n"
      ]
    },
    {
      "cell_type": "code",
      "execution_count": 5,
      "metadata": {
        "tags": [],
        "id": "14TasGzJDK1E"
      },
      "outputs": [],
      "source": [
        "spark = SparkSession.builder.appName(\"ETL using Spark\").getOrCreate()"
      ]
    },
    {
      "cell_type": "markdown",
      "metadata": {
        "id": "U7A8lQqtDK1G"
      },
      "source": [
        "### Load the csv file into a dataframe\n"
      ]
    },
    {
      "cell_type": "markdown",
      "metadata": {
        "id": "swDaGkHfDK1G"
      },
      "source": [
        "Download the data file."
      ]
    },
    {
      "cell_type": "code",
      "execution_count": 6,
      "metadata": {
        "tags": [],
        "colab": {
          "base_uri": "https://localhost:8080/"
        },
        "id": "rqpZrky2DK1G",
        "outputId": "db024266-826d-4e72-9e35-dc0a0bc84ff5"
      },
      "outputs": [
        {
          "output_type": "stream",
          "name": "stdout",
          "text": [
            "--2024-02-05 16:16:16--  https://cf-courses-data.s3.us.cloud-object-storage.appdomain.cloud/IBMSkillsNetwork-BD0231EN-Coursera/datasets/NASA_airfoil_noise_raw.csv\n",
            "Resolving cf-courses-data.s3.us.cloud-object-storage.appdomain.cloud (cf-courses-data.s3.us.cloud-object-storage.appdomain.cloud)... 169.63.118.104\n",
            "Connecting to cf-courses-data.s3.us.cloud-object-storage.appdomain.cloud (cf-courses-data.s3.us.cloud-object-storage.appdomain.cloud)|169.63.118.104|:443... connected.\n",
            "HTTP request sent, awaiting response... 200 OK\n",
            "Length: 60682 (59K) [text/csv]\n",
            "Saving to: ‘NASA_airfoil_noise_raw.csv’\n",
            "\n",
            "\r          NASA_airf   0%[                    ]       0  --.-KB/s               \rNASA_airfoil_noise_ 100%[===================>]  59.26K  --.-KB/s    in 0.03s   \n",
            "\n",
            "2024-02-05 16:16:16 (2.27 MB/s) - ‘NASA_airfoil_noise_raw.csv’ saved [60682/60682]\n",
            "\n"
          ]
        }
      ],
      "source": [
        "!wget https://cf-courses-data.s3.us.cloud-object-storage.appdomain.cloud/IBMSkillsNetwork-BD0231EN-Coursera/datasets/NASA_airfoil_noise_raw.csv"
      ]
    },
    {
      "cell_type": "markdown",
      "metadata": {
        "id": "xS4jRtoVDK1H"
      },
      "source": [
        "Load the dataset into the spark dataframe\n"
      ]
    },
    {
      "cell_type": "code",
      "execution_count": 7,
      "metadata": {
        "tags": [],
        "id": "z-eUnC4mDK1H"
      },
      "outputs": [],
      "source": [
        "df = spark.read.csv(\"NASA_airfoil_noise_raw.csv\", header=True, inferSchema=True)"
      ]
    },
    {
      "cell_type": "code",
      "execution_count": 8,
      "metadata": {
        "tags": [],
        "colab": {
          "base_uri": "https://localhost:8080/"
        },
        "id": "dt28sO0-DK1H",
        "outputId": "c3aaf0b5-8694-474a-911e-d4ede92a9717"
      },
      "outputs": [
        {
          "output_type": "execute_result",
          "data": {
            "text/plain": [
              "[Row(Frequency=800, AngleOfAttack=0.0, ChordLength=0.3048, FreeStreamVelocity=71.3, SuctionSideDisplacement=0.00266337, SoundLevel=126.201),\n",
              " Row(Frequency=1000, AngleOfAttack=0.0, ChordLength=0.3048, FreeStreamVelocity=71.3, SuctionSideDisplacement=0.00266337, SoundLevel=125.201),\n",
              " Row(Frequency=1250, AngleOfAttack=0.0, ChordLength=0.3048, FreeStreamVelocity=71.3, SuctionSideDisplacement=0.00266337, SoundLevel=125.951),\n",
              " Row(Frequency=1600, AngleOfAttack=0.0, ChordLength=0.3048, FreeStreamVelocity=71.3, SuctionSideDisplacement=0.00266337, SoundLevel=127.591),\n",
              " Row(Frequency=2000, AngleOfAttack=0.0, ChordLength=0.3048, FreeStreamVelocity=71.3, SuctionSideDisplacement=0.00266337, SoundLevel=127.461)]"
            ]
          },
          "metadata": {},
          "execution_count": 8
        }
      ],
      "source": [
        "df.head(5)"
      ]
    },
    {
      "cell_type": "markdown",
      "metadata": {
        "id": "NWUB5mhRDK1I"
      },
      "source": [
        "## Data Preprocessing\n",
        "\n",
        "#### Dropping Duplicates\n",
        "Duplicate rows are removed from the dataset to ensure each observation is unique. This helps prevent biases in analysis caused by redundant data.\n",
        "\n",
        "#### Handling Missing Values\n",
        "Rows containing null values are dropped from the dataset to maintain data integrity. This ensures that analyses are based on complete and reliable information.\n",
        "\n",
        "#### Column Renaming\n",
        "The column named \"SoundLevel\" is renamed to \"SoundLevelDecibels\" for clarity and consistency in column naming conventions. This step enhances the interpretability of the dataset and facilitates downstream analysis."
      ]
    },
    {
      "cell_type": "code",
      "execution_count": 9,
      "metadata": {
        "tags": [],
        "colab": {
          "base_uri": "https://localhost:8080/"
        },
        "id": "QKUodwd1DK1I",
        "outputId": "6c7509e7-b29c-4690-e8a7-d1dcf974385f"
      },
      "outputs": [
        {
          "output_type": "stream",
          "name": "stdout",
          "text": [
            "1522\n"
          ]
        }
      ],
      "source": [
        "rowcount1 = df.count()\n",
        "print(rowcount1)"
      ]
    },
    {
      "cell_type": "markdown",
      "metadata": {
        "id": "fEfm8aLXDK1I"
      },
      "source": [
        "### Drop all the duplicate rows\n"
      ]
    },
    {
      "cell_type": "code",
      "execution_count": 10,
      "metadata": {
        "tags": [],
        "colab": {
          "base_uri": "https://localhost:8080/"
        },
        "id": "kB6vqHwcDK1J",
        "outputId": "e3ae1103-140d-4d8b-a2fe-f1ee4b62bd5c"
      },
      "outputs": [
        {
          "output_type": "stream",
          "name": "stdout",
          "text": [
            "1503\n"
          ]
        }
      ],
      "source": [
        "df = df.dropDuplicates()\n",
        "rowcount2 = df.count()\n",
        "print(rowcount2)"
      ]
    },
    {
      "cell_type": "markdown",
      "metadata": {
        "id": "8p2FKi29DK1J"
      },
      "source": [
        "### Drop all the rows that contain null values\n"
      ]
    },
    {
      "cell_type": "code",
      "execution_count": 11,
      "metadata": {
        "tags": [],
        "colab": {
          "base_uri": "https://localhost:8080/"
        },
        "id": "SGSZyJKNDK1J",
        "outputId": "7ce255c3-eea6-4f9e-b485-b831c4fd6d39"
      },
      "outputs": [
        {
          "output_type": "stream",
          "name": "stdout",
          "text": [
            "1499\n"
          ]
        }
      ],
      "source": [
        "df=df.dropna()\n",
        "rowcount3 = df.count()\n",
        "print(rowcount3)\n",
        "\n"
      ]
    },
    {
      "cell_type": "markdown",
      "metadata": {
        "id": "6J2d4dQKDK1K"
      },
      "source": [
        "### Rename the column \"SoundLevel\" to \"SoundLevelDecibels\"\n"
      ]
    },
    {
      "cell_type": "code",
      "execution_count": 12,
      "metadata": {
        "tags": [],
        "colab": {
          "base_uri": "https://localhost:8080/"
        },
        "id": "V-6gnxX2DK1K",
        "outputId": "83d6eba2-79a2-43f1-af8d-484bd9f47fc7"
      },
      "outputs": [
        {
          "output_type": "execute_result",
          "data": {
            "text/plain": [
              "['Frequency',\n",
              " 'AngleOfAttack',\n",
              " 'ChordLength',\n",
              " 'FreeStreamVelocity',\n",
              " 'SuctionSideDisplacement',\n",
              " 'SoundLevelDecibels']"
            ]
          },
          "metadata": {},
          "execution_count": 12
        }
      ],
      "source": [
        "df = df.withColumnRenamed(\"SoundLevel\",\"SoundLevelDecibels\")\n",
        "df.columns"
      ]
    },
    {
      "cell_type": "markdown",
      "metadata": {
        "id": "lv4DjdLTDK1K"
      },
      "source": [
        "### Save the dataframe in parquet formant\n"
      ]
    },
    {
      "cell_type": "code",
      "execution_count": 13,
      "metadata": {
        "tags": [],
        "id": "RyK2CThwDK1K"
      },
      "outputs": [],
      "source": [
        "df.write.mode(\"overwrite\").parquet(\"NASA_airfoil_noise_cleaned.parquet\")"
      ]
    },
    {
      "cell_type": "markdown",
      "metadata": {
        "id": "lyzvBfxuDK1L"
      },
      "source": [
        "#### Part 1 - Evaluation\n"
      ]
    },
    {
      "cell_type": "code",
      "execution_count": 14,
      "metadata": {
        "tags": [],
        "colab": {
          "base_uri": "https://localhost:8080/"
        },
        "id": "KZ-oERZnDK1M",
        "outputId": "35629771-c195-44f3-8214-cfc31110792c"
      },
      "outputs": [
        {
          "output_type": "stream",
          "name": "stdout",
          "text": [
            "Part 1 - Evaluation\n",
            "Total rows =  1522\n",
            "Total rows after dropping duplicate rows =  1503\n",
            "Total rows after dropping duplicate rows and rows with null values =  1499\n",
            "New column name =  SoundLevelDecibels\n",
            "NASA_airfoil_noise_cleaned.parquet exists : True\n"
          ]
        }
      ],
      "source": [
        "print(\"Part 1 - Evaluation\")\n",
        "\n",
        "print(\"Total rows = \", rowcount1)\n",
        "print(\"Total rows after dropping duplicate rows = \", rowcount2)\n",
        "print(\"Total rows after dropping duplicate rows and rows with null values = \", rowcount3)\n",
        "print(\"New column name = \", df.columns[-1])\n",
        "\n",
        "import os\n",
        "\n",
        "print(\"NASA_airfoil_noise_cleaned.parquet exists :\", os.path.isdir(\"NASA_airfoil_noise_cleaned.parquet\"))"
      ]
    },
    {
      "cell_type": "markdown",
      "metadata": {
        "id": "xkkSK7gxDK1N"
      },
      "source": [
        "## Part - 2 Create a  Machine Learning Pipeline\n"
      ]
    },
    {
      "cell_type": "markdown",
      "metadata": {
        "id": "74yKUjtbDK1O"
      },
      "source": [
        "### Load data from parquet into a dataframe\n"
      ]
    },
    {
      "cell_type": "code",
      "execution_count": 15,
      "metadata": {
        "tags": [],
        "colab": {
          "base_uri": "https://localhost:8080/"
        },
        "id": "30lk6zn7DK1U",
        "outputId": "62cd6f6d-0904-4ef4-b934-f436b259dcf2"
      },
      "outputs": [
        {
          "output_type": "stream",
          "name": "stdout",
          "text": [
            "1499\n"
          ]
        }
      ],
      "source": [
        "df = spark.read.parquet(\"NASA_airfoil_noise_cleaned.parquet\")\n",
        "rowcount4 = df.count()\n",
        "print(rowcount4)"
      ]
    },
    {
      "cell_type": "markdown",
      "metadata": {
        "id": "pZIssobhDK1U"
      },
      "source": [
        "### Define the VectorAssembler pipeline stage\n"
      ]
    },
    {
      "cell_type": "markdown",
      "metadata": {
        "tags": [],
        "id": "uiuz1oABDK1V"
      },
      "source": [
        "By converting features into a unified format, the VectorAssembler enhances algorithm compatibility and leverages PySpark's distributed computing for efficient processing of large datasets, ensuring scalability and performance in machine learning workflows."
      ]
    },
    {
      "cell_type": "code",
      "execution_count": 16,
      "metadata": {
        "tags": [],
        "id": "--f-NhWUDK1V"
      },
      "outputs": [],
      "source": [
        "\n",
        "from pyspark.ml.feature import VectorAssembler\n",
        "\n",
        "assembler = VectorAssembler(inputCols=['Frequency',\n",
        " 'AngleOfAttack',\n",
        " 'ChordLength',\n",
        " 'FreeStreamVelocity',\n",
        " 'SuctionSideDisplacement'], outputCol=\"features\")"
      ]
    },
    {
      "cell_type": "markdown",
      "metadata": {
        "id": "ctIcw-hZDK1W"
      },
      "source": [
        "### Define the StandardScaler pipeline stage\n"
      ]
    },
    {
      "cell_type": "markdown",
      "metadata": {
        "id": "me3aIQwBDK1W"
      },
      "source": [
        "By applying StandardScaler, potential issues related to feature magnitudes and variations are mitigated, leading to more stable and reliable model performance across diverse datasets."
      ]
    },
    {
      "cell_type": "code",
      "execution_count": 17,
      "metadata": {
        "tags": [],
        "id": "bAhwv6ZCDK1X"
      },
      "outputs": [],
      "source": [
        "from pyspark.ml.feature import StandardScaler\n",
        "scaler = StandardScaler(inputCol=\"features\", outputCol=\"scaledFeatures\")"
      ]
    },
    {
      "cell_type": "markdown",
      "metadata": {
        "id": "DH4k0OkwDK1Y"
      },
      "source": [
        "### Define the LinearRegression pipeline stage\n"
      ]
    },
    {
      "cell_type": "markdown",
      "metadata": {
        "id": "5LT6NDbRDK1Y"
      },
      "source": [
        "Linear Regression in this context, we aim to capture the linear association between the scaled features and the sound level decibels, enabling us to make predictions based on this relationship."
      ]
    },
    {
      "cell_type": "code",
      "execution_count": 18,
      "metadata": {
        "tags": [],
        "id": "-OWonLBXDK1Z"
      },
      "outputs": [],
      "source": [
        "from pyspark.ml.regression import LinearRegression\n",
        "lr = LinearRegression(featuresCol=\"scaledFeatures\", labelCol=\"SoundLevelDecibels\")"
      ]
    },
    {
      "cell_type": "markdown",
      "metadata": {
        "tags": [],
        "id": "yWkZRL0WDK1Z"
      },
      "source": [
        "### Define the Lasso pipeline stage\n"
      ]
    },
    {
      "cell_type": "markdown",
      "source": [
        "Lasso regression, a variant of linear regression, introduces regularization by adding a penalty term that promotes sparsity in the model coefficients. This encourages simpler models with fewer non-zero coefficients, effectively selecting a subset of features and reducing overfitting.\n"
      ],
      "metadata": {
        "id": "l-JddL6zEPXH"
      }
    },
    {
      "cell_type": "code",
      "execution_count": 19,
      "metadata": {
        "tags": [],
        "id": "-E2rxJrYDK1a"
      },
      "outputs": [],
      "source": [
        "lasso = LinearRegression(featuresCol=\"scaledFeatures\", labelCol=\"SoundLevelDecibels\", elasticNetParam=1.0, regParam=0.1)"
      ]
    },
    {
      "cell_type": "markdown",
      "metadata": {
        "tags": [],
        "id": "i0tpUFzbDK1b"
      },
      "source": [
        "### Define the ElasticNet  pipeline stage\n"
      ]
    },
    {
      "cell_type": "markdown",
      "source": [
        "ElasticNet regression is a generalized linear regression model that combines both L1 (Lasso) and L2 (Ridge) regularization penalties. It balances between feature selection (Lasso) and coefficient shrinkage (Ridge), offering a versatile approach to handle multicollinearity and overfitting in regression tasks.\n"
      ],
      "metadata": {
        "id": "HBQ-lcGvEXQI"
      }
    },
    {
      "cell_type": "code",
      "execution_count": 21,
      "metadata": {
        "tags": [],
        "id": "bB55k_EaDK1b"
      },
      "outputs": [],
      "source": [
        "from pyspark.ml.regression import GeneralizedLinearRegression\n",
        "\n",
        "elastic_net = GeneralizedLinearRegression(featuresCol=\"scaledFeatures\", labelCol=\"SoundLevelDecibels\", family=\"gaussian\", link=\"identity\", regParam=0.1)\n"
      ]
    },
    {
      "cell_type": "markdown",
      "metadata": {
        "id": "dM9nPgzvDK1c"
      },
      "source": [
        "### Build the pipeline\n"
      ]
    },
    {
      "cell_type": "markdown",
      "metadata": {
        "id": "IVh--BJkDK1c"
      },
      "source": [
        "Build a pipeline using the above three stages\n"
      ]
    },
    {
      "cell_type": "code",
      "execution_count": 22,
      "metadata": {
        "tags": [],
        "id": "MvfXvQBxDK1e"
      },
      "outputs": [],
      "source": [
        "from pyspark.ml import Pipeline\n",
        "pipeline = Pipeline(stages=[assembler, scaler, lr])\n",
        "lasso_pipeline = Pipeline(stages=[assembler, scaler, lasso])\n",
        "elastic_pipeline = Pipeline(stages=[assembler, scaler, elastic_net])"
      ]
    },
    {
      "cell_type": "markdown",
      "metadata": {
        "id": "gU0FGEzTDK1f"
      },
      "source": [
        "### Split the data\n"
      ]
    },
    {
      "cell_type": "markdown",
      "metadata": {
        "id": "qeYZsmINDK1g"
      },
      "source": [
        "The larger subset (70%) is designated for training the machine learning model, while the smaller subset (30%) is reserved for evaluating the model's performance. The seed=42 parameter ensures reproducibility by setting the random seed for the split."
      ]
    },
    {
      "cell_type": "code",
      "execution_count": 23,
      "metadata": {
        "tags": [],
        "id": "W7FZrS5IDK1g"
      },
      "outputs": [],
      "source": [
        "(trainingData, testData) = df.randomSplit([0.7, 0.3], seed=42)"
      ]
    },
    {
      "cell_type": "markdown",
      "metadata": {
        "id": "mzy5B3FvDK1g"
      },
      "source": [
        "### Fit the pipeline\n"
      ]
    },
    {
      "cell_type": "markdown",
      "metadata": {
        "id": "F2ygdAWqDK1g"
      },
      "source": [
        "This process involves applying any data preprocessing steps, such as feature engineering or scaling, followed by training the model using the specified algorithm. Once fitted, the model encapsulates the learned patterns from the training data and is ready for evaluation and prediction tasks."
      ]
    },
    {
      "cell_type": "code",
      "execution_count": 24,
      "metadata": {
        "tags": [],
        "id": "UUh7-bFZDK1h"
      },
      "outputs": [],
      "source": [
        "model = pipeline.fit(trainingData)"
      ]
    },
    {
      "cell_type": "code",
      "execution_count": 25,
      "metadata": {
        "tags": [],
        "id": "GYl0TJb8DK1i"
      },
      "outputs": [],
      "source": [
        "model2 = lasso_pipeline.fit(trainingData)"
      ]
    },
    {
      "cell_type": "code",
      "execution_count": 26,
      "metadata": {
        "tags": [],
        "id": "Y798yhroDK1i"
      },
      "outputs": [],
      "source": [
        "model3 = elastic_pipeline.fit(trainingData)"
      ]
    },
    {
      "cell_type": "markdown",
      "metadata": {
        "id": "3CncqKrADK1j"
      },
      "source": [
        "#### Part 2 - Evaluation\n"
      ]
    },
    {
      "cell_type": "code",
      "execution_count": 27,
      "metadata": {
        "tags": [],
        "colab": {
          "base_uri": "https://localhost:8080/"
        },
        "id": "4ErW4MrvDK1j",
        "outputId": "30a2f0cd-061d-4ed6-d860-a7ce9c721e71"
      },
      "outputs": [
        {
          "output_type": "stream",
          "name": "stdout",
          "text": [
            "Part 2 - Evaluation\n",
            "Total rows =  1499\n",
            "Linear Regression\n",
            "Pipeline Stage 1 =  VectorAssembler\n",
            "Pipeline Stage 2 =  StandardScaler\n",
            "Pipeline Stage 3 =  LinearRegression\n",
            "Label column =  SoundLevelDecibels\n",
            "\n",
            "\n",
            "Lasso\n",
            "Pipeline Stage 1 =  VectorAssembler\n",
            "Pipeline Stage 2 =  StandardScaler\n",
            "Pipeline Stage 3 =  LinearRegression\n",
            "Label column =  SoundLevelDecibels\n",
            "\n",
            "\n",
            "ElasticNet\n",
            "Pipeline Stage 1 =  VectorAssembler\n",
            "Pipeline Stage 2 =  StandardScaler\n",
            "Pipeline Stage 3 =  GeneralizedLinearRegression\n",
            "Label column =  SoundLevelDecibels\n"
          ]
        }
      ],
      "source": [
        "print(\"Part 2 - Evaluation\")\n",
        "print(\"Total rows = \", rowcount4)\n",
        "ps = [str(x).split(\"_\")[0] for x in pipeline.getStages()]\n",
        "print(\"Linear Regression\")\n",
        "print(\"Pipeline Stage 1 = \", ps[0])\n",
        "print(\"Pipeline Stage 2 = \", ps[1])\n",
        "print(\"Pipeline Stage 3 = \", ps[2])\n",
        "\n",
        "print(\"Label column = \", lr.getLabelCol())\n",
        "\n",
        "print(\"\\n\")\n",
        "\n",
        "ps = [str(x).split(\"_\")[0] for x in lasso_pipeline.getStages()]\n",
        "print(\"Lasso\")\n",
        "print(\"Pipeline Stage 1 = \", ps[0])\n",
        "print(\"Pipeline Stage 2 = \", ps[1])\n",
        "print(\"Pipeline Stage 3 = \", ps[2])\n",
        "\n",
        "print(\"Label column = \", lr.getLabelCol())\n",
        "\n",
        "print(\"\\n\")\n",
        "\n",
        "ps = [str(x).split(\"_\")[0] for x in elastic_pipeline.getStages()]\n",
        "print(\"ElasticNet\")\n",
        "print(\"Pipeline Stage 1 = \", ps[0])\n",
        "print(\"Pipeline Stage 2 = \", ps[1])\n",
        "print(\"Pipeline Stage 3 = \", ps[2])\n",
        "\n",
        "print(\"Label column = \", lr.getLabelCol())"
      ]
    },
    {
      "cell_type": "markdown",
      "metadata": {
        "id": "KDncLyrlDK1k"
      },
      "source": [
        "## Part 3 - Evaluate the Model\n"
      ]
    },
    {
      "cell_type": "markdown",
      "metadata": {
        "id": "r4S1FOiJDK1l"
      },
      "source": [
        "### Predict using the model\n"
      ]
    },
    {
      "cell_type": "markdown",
      "metadata": {
        "id": "pudCj4d2DK1l"
      },
      "source": [
        "The resulting predictions are stored in the \"predictions\" DataFrame, which can then be used to evaluate the model's performance against the true labels or values in the test dataset. This step is crucial for assessing how well the trained model generalizes to new, unseen data and for validating its effectiveness in real-world scenarios."
      ]
    },
    {
      "cell_type": "code",
      "execution_count": 28,
      "metadata": {
        "tags": [],
        "id": "G3CIYatDDK1m"
      },
      "outputs": [],
      "source": [
        "predictions = model.transform(testData)\n",
        "predictions2 = model2.transform(testData)\n",
        "predictions3 = model3.transform(testData)"
      ]
    },
    {
      "cell_type": "markdown",
      "metadata": {
        "id": "nhyT7BUpDK1m"
      },
      "source": [
        "### MSE\n"
      ]
    },
    {
      "cell_type": "markdown",
      "metadata": {
        "id": "CvW4kHGQDK1n"
      },
      "source": [
        "The calculated MSE value quantifies the average squared difference between the predicted and actual values, providing a measure of the model's predictive accuracy. A lower MSE indicates better model performance, with values closer to zero indicating a more precise model."
      ]
    },
    {
      "cell_type": "code",
      "execution_count": 29,
      "metadata": {
        "tags": [],
        "colab": {
          "base_uri": "https://localhost:8080/"
        },
        "id": "PgO9-fcADK1n",
        "outputId": "95e13204-b8f3-44eb-ea40-97030d9ea4c4"
      },
      "outputs": [
        {
          "output_type": "stream",
          "name": "stdout",
          "text": [
            "Linear MSE = 25.005633149560463\n"
          ]
        }
      ],
      "source": [
        "from pyspark.ml.evaluation import RegressionEvaluator\n",
        "\n",
        "evaluator = RegressionEvaluator(labelCol=\"SoundLevelDecibels\", predictionCol=\"prediction\", metricName=\"mse\")\n",
        "mse = evaluator.evaluate(predictions)\n",
        "print(\"Linear MSE =\", mse)"
      ]
    },
    {
      "cell_type": "code",
      "execution_count": 30,
      "metadata": {
        "tags": [],
        "colab": {
          "base_uri": "https://localhost:8080/"
        },
        "id": "DfVsZUNLDK1n",
        "outputId": "ff2e9d55-a634-4260-d802-2edaf04ae6f9"
      },
      "outputs": [
        {
          "output_type": "stream",
          "name": "stdout",
          "text": [
            "Lasso MSE = 25.337662351914624\n"
          ]
        }
      ],
      "source": [
        "evaluator = RegressionEvaluator(labelCol=\"SoundLevelDecibels\", predictionCol=\"prediction\", metricName=\"mse\")\n",
        "mse2 = evaluator.evaluate(predictions2)\n",
        "print(\"Lasso MSE =\", mse2)"
      ]
    },
    {
      "cell_type": "code",
      "execution_count": 31,
      "metadata": {
        "tags": [],
        "colab": {
          "base_uri": "https://localhost:8080/"
        },
        "id": "XSfzdkpzDK1n",
        "outputId": "c4d2a2e8-bc6b-4ae4-c1d1-99cbdc4c8779"
      },
      "outputs": [
        {
          "output_type": "stream",
          "name": "stdout",
          "text": [
            "ElasticNet MSE = 25.123461720551557\n"
          ]
        }
      ],
      "source": [
        "evaluator = RegressionEvaluator(labelCol=\"SoundLevelDecibels\", predictionCol=\"prediction\", metricName=\"mse\")\n",
        "mse3 = evaluator.evaluate(predictions3)\n",
        "print(\"ElasticNet MSE =\", mse3)"
      ]
    },
    {
      "cell_type": "markdown",
      "metadata": {
        "id": "KQ8LPVXCDK1o"
      },
      "source": [
        "### MAE\n"
      ]
    },
    {
      "cell_type": "markdown",
      "metadata": {
        "id": "AFmMf-2LDK1o"
      },
      "source": [
        "MAE value quantifies the average absolute difference between the predicted and actual values, providing another measure of the model's predictive accuracy. A lower MAE indicates better model performance, with values closer to zero indicating a more accurate model."
      ]
    },
    {
      "cell_type": "code",
      "execution_count": 32,
      "metadata": {
        "tags": [],
        "colab": {
          "base_uri": "https://localhost:8080/"
        },
        "id": "e9yBnrw1DK1o",
        "outputId": "c34508f1-8e95-4671-ddab-45623b2c62f0"
      },
      "outputs": [
        {
          "output_type": "stream",
          "name": "stdout",
          "text": [
            "Linear MAE = 3.870800827817513\n"
          ]
        }
      ],
      "source": [
        "evaluator = RegressionEvaluator(labelCol=\"SoundLevelDecibels\", predictionCol=\"prediction\", metricName=\"mae\")\n",
        "mae = evaluator.evaluate(predictions)\n",
        "print(\"Linear MAE =\", mae)"
      ]
    },
    {
      "cell_type": "code",
      "execution_count": 33,
      "metadata": {
        "tags": [],
        "colab": {
          "base_uri": "https://localhost:8080/"
        },
        "id": "odC1lO3kDK1p",
        "outputId": "119cb246-284e-4631-9356-cbc22b9f6f6a"
      },
      "outputs": [
        {
          "output_type": "stream",
          "name": "stdout",
          "text": [
            "Lasso MAE = 3.922395099708769\n"
          ]
        }
      ],
      "source": [
        "evaluator = RegressionEvaluator(labelCol=\"SoundLevelDecibels\", predictionCol=\"prediction\", metricName=\"mae\")\n",
        "mae2 = evaluator.evaluate(predictions2)\n",
        "print(\"Lasso MAE =\", mae2)"
      ]
    },
    {
      "cell_type": "code",
      "execution_count": 34,
      "metadata": {
        "tags": [],
        "colab": {
          "base_uri": "https://localhost:8080/"
        },
        "id": "DL41CCppDK1p",
        "outputId": "ba6fd2e6-734a-4487-ed63-1bf1d28161c0"
      },
      "outputs": [
        {
          "output_type": "stream",
          "name": "stdout",
          "text": [
            "ElasticNet MAE = 3.893721314528024\n"
          ]
        }
      ],
      "source": [
        "evaluator = RegressionEvaluator(labelCol=\"SoundLevelDecibels\", predictionCol=\"prediction\", metricName=\"mae\")\n",
        "mae3 = evaluator.evaluate(predictions3)\n",
        "print(\"ElasticNet MAE =\", mae3)"
      ]
    },
    {
      "cell_type": "markdown",
      "metadata": {
        "id": "ZmtlK53PDK1q"
      },
      "source": [
        "### R-Squared(R2)\n"
      ]
    },
    {
      "cell_type": "code",
      "execution_count": 35,
      "metadata": {
        "tags": [],
        "colab": {
          "base_uri": "https://localhost:8080/"
        },
        "id": "KZD757qyDK1q",
        "outputId": "4181b76b-9ab8-4846-d602-7ec17ed49156"
      },
      "outputs": [
        {
          "output_type": "stream",
          "name": "stdout",
          "text": [
            "Linear R2 = 0.5137496926589646\n"
          ]
        }
      ],
      "source": [
        "evaluator = RegressionEvaluator(labelCol=\"SoundLevelDecibels\", predictionCol=\"prediction\", metricName=\"r2\")\n",
        "r2 = evaluator.evaluate(predictions)\n",
        "print(\"Linear R2 =\", r2)\n"
      ]
    },
    {
      "cell_type": "code",
      "execution_count": 36,
      "metadata": {
        "tags": [],
        "colab": {
          "base_uri": "https://localhost:8080/"
        },
        "id": "19HEptXDDK1q",
        "outputId": "8c046e98-3682-4a66-b183-bed052c48073"
      },
      "outputs": [
        {
          "output_type": "stream",
          "name": "stdout",
          "text": [
            "Lasso R2 = 0.5072931754124199\n"
          ]
        }
      ],
      "source": [
        "evaluator = RegressionEvaluator(labelCol=\"SoundLevelDecibels\", predictionCol=\"prediction\", metricName=\"r2\")\n",
        "r22 = evaluator.evaluate(predictions2)\n",
        "print(\"Lasso R2 =\", r22)\n"
      ]
    },
    {
      "cell_type": "code",
      "execution_count": 37,
      "metadata": {
        "tags": [],
        "colab": {
          "base_uri": "https://localhost:8080/"
        },
        "id": "2E4PszohDK1r",
        "outputId": "6ec2cc6f-a20b-474b-822b-3b34492d2459"
      },
      "outputs": [
        {
          "output_type": "stream",
          "name": "stdout",
          "text": [
            "ElasticNet R2 = 0.5114584417830002\n"
          ]
        }
      ],
      "source": [
        "evaluator = RegressionEvaluator(labelCol=\"SoundLevelDecibels\", predictionCol=\"prediction\", metricName=\"r2\")\n",
        "r23 = evaluator.evaluate(predictions3)\n",
        "print(\"ElasticNet R2 =\", r23)\n"
      ]
    },
    {
      "cell_type": "markdown",
      "metadata": {
        "id": "dME87uvPDK1r"
      },
      "source": [
        "#### Part 3 - Evaluation\n"
      ]
    },
    {
      "cell_type": "code",
      "execution_count": 38,
      "metadata": {
        "tags": [],
        "colab": {
          "base_uri": "https://localhost:8080/"
        },
        "id": "8EMJu0ozDK1r",
        "outputId": "b11fa918-b0c7-4f1c-daf5-3ddd027f5b38"
      },
      "outputs": [
        {
          "output_type": "stream",
          "name": "stdout",
          "text": [
            "Part 3 - Evaluation\n",
            "Linear Regression\n",
            "Mean Squared Error =  25.01\n",
            "Mean Absolute Error =  3.87\n",
            "R Squared =  0.51\n",
            "Intercept =  132.43\n",
            "\n",
            "\n",
            "Lasso\n",
            "Mean Squared Error =  25.34\n",
            "Mean Absolute Error =  3.92\n",
            "R Squared =  0.51\n",
            "Intercept =  132.04\n",
            "\n",
            "\n",
            "ElasticNet\n",
            "Mean Squared Error =  25.12\n",
            "Mean Absolute Error =  3.89\n",
            "R Squared =  0.51\n",
            "Intercept =  132.21\n"
          ]
        }
      ],
      "source": [
        "print(\"Part 3 - Evaluation\")\n",
        "print(\"Linear Regression\")\n",
        "print(\"Mean Squared Error = \", round(mse,2))\n",
        "print(\"Mean Absolute Error = \", round(mae,2))\n",
        "print(\"R Squared = \", round(r2,2))\n",
        "\n",
        "lrModel = model.stages[-1]\n",
        "\n",
        "print(\"Intercept = \", round(lrModel.intercept,2))\n",
        "\n",
        "\n",
        "print(\"\\n\")\n",
        "print(\"Lasso\")\n",
        "print(\"Mean Squared Error = \", round(mse2,2))\n",
        "print(\"Mean Absolute Error = \", round(mae2,2))\n",
        "print(\"R Squared = \", round(r22,2))\n",
        "\n",
        "lassoModel = model2.stages[-1]\n",
        "\n",
        "print(\"Intercept = \", round(lassoModel.intercept,2))\n",
        "\n",
        "print(\"\\n\")\n",
        "print(\"ElasticNet\")\n",
        "print(\"Mean Squared Error = \", round(mse3,2))\n",
        "print(\"Mean Absolute Error = \", round(mae3,2))\n",
        "print(\"R Squared = \", round(r23,2))\n",
        "\n",
        "elasticN = model3.stages[-1]\n",
        "\n",
        "print(\"Intercept = \", round(elasticN.intercept,2))"
      ]
    },
    {
      "cell_type": "markdown",
      "metadata": {
        "id": "aaxPDZTrDK1s"
      },
      "source": [
        "## Part 4 - Persist the Model\n"
      ]
    },
    {
      "cell_type": "markdown",
      "metadata": {
        "id": "OiNvDvSnDK1s"
      },
      "source": [
        "### Save the model\n"
      ]
    },
    {
      "cell_type": "code",
      "execution_count": 39,
      "metadata": {
        "tags": [],
        "id": "UrsHyqfZDK1s"
      },
      "outputs": [],
      "source": [
        "model.save(\"Final_Project\")\n"
      ]
    },
    {
      "cell_type": "markdown",
      "metadata": {
        "id": "aZKMIGbjDK1s"
      },
      "source": [
        "### Load the model\n"
      ]
    },
    {
      "cell_type": "code",
      "execution_count": 40,
      "metadata": {
        "tags": [],
        "id": "nax0l-pADK1t"
      },
      "outputs": [],
      "source": [
        "loadedPipelineModel = model.load(\"Final_Project\")\n"
      ]
    },
    {
      "cell_type": "markdown",
      "metadata": {
        "id": "AK66SASRDK1t"
      },
      "source": [
        "### Make predictions using the loaded model on the testdata\n"
      ]
    },
    {
      "cell_type": "code",
      "execution_count": 41,
      "metadata": {
        "tags": [],
        "id": "hZEoapmHDK19"
      },
      "outputs": [],
      "source": [
        "predictions = loadedPipelineModel.transform(testData)\n"
      ]
    },
    {
      "cell_type": "markdown",
      "metadata": {
        "id": "c_j9hJFeDK19"
      },
      "source": [
        "### Task 4 - Show the predictions\n"
      ]
    },
    {
      "cell_type": "code",
      "execution_count": 42,
      "metadata": {
        "tags": [],
        "colab": {
          "base_uri": "https://localhost:8080/"
        },
        "id": "dDRMiIP8DK1-",
        "outputId": "aeec1de2-c529-4c0e-e4a7-e845be40b400"
      },
      "outputs": [
        {
          "output_type": "stream",
          "name": "stdout",
          "text": [
            "+------------------+------------------+\n",
            "|SoundLevelDecibels|        prediction|\n",
            "+------------------+------------------+\n",
            "|           128.545|121.03522307921861|\n",
            "|           130.898|122.44608224351367|\n",
            "|           109.951|127.63255285986469|\n",
            "|           112.506|129.25004941528528|\n",
            "|           130.089|122.16654986012581|\n",
            "+------------------+------------------+\n",
            "only showing top 5 rows\n",
            "\n"
          ]
        }
      ],
      "source": [
        "predictions.select('SoundLevelDecibels', 'prediction').show(5)"
      ]
    },
    {
      "cell_type": "code",
      "execution_count": 43,
      "metadata": {
        "tags": [],
        "colab": {
          "base_uri": "https://localhost:8080/",
          "height": 564
        },
        "id": "QXaM_PMGDK1_",
        "outputId": "7da15280-077c-49d3-9b0c-1843b288e732"
      },
      "outputs": [
        {
          "output_type": "display_data",
          "data": {
            "text/plain": [
              "<Figure size 800x600 with 1 Axes>"
            ],
            "image/png": "[encoded data removed]"
          },
          "metadata": {}
        }
      ],
      "source": [
        "import matplotlib.pyplot as plt\n",
        "import numpy as np\n",
        "\n",
        "# Assuming 'predictions' is a DataFrame containing 'SoundLevelDecibels' and 'prediction' columns\n",
        "\n",
        "# Extract actual and predicted values from the DataFrame\n",
        "actual_values = np.array(predictions.select('SoundLevelDecibels').collect())\n",
        "predicted_values = np.array(predictions.select('prediction').collect())\n",
        "\n",
        "# Plot\n",
        "plt.figure(figsize=(8, 6))\n",
        "plt.scatter(actual_values, predicted_values, color='blue')\n",
        "plt.plot([actual_values.min(), actual_values.max()], [actual_values.min(), actual_values.max()], linestyle='--', color='red')\n",
        "plt.xlabel('Actual Sound Level (Decibels)')\n",
        "plt.ylabel('Predicted Sound Level (Decibels)')\n",
        "plt.title('Actual vs. Predicted Sound Level')\n",
        "plt.grid(True)\n",
        "plt.show()\n"
      ]
    },
    {
      "cell_type": "markdown",
      "metadata": {
        "id": "sxUpx2g8DK2A"
      },
      "source": [
        "#### Part 4 - Evaluation\n"
      ]
    },
    {
      "cell_type": "code",
      "execution_count": 44,
      "metadata": {
        "tags": [],
        "colab": {
          "base_uri": "https://localhost:8080/"
        },
        "id": "0kxkCAkCDK2B",
        "outputId": "9eb6293c-2cbf-415c-9665-252e643b5e00"
      },
      "outputs": [
        {
          "output_type": "stream",
          "name": "stdout",
          "text": [
            "Part 4 - Evaluation\n",
            "Number of stages in the pipeline =  3\n",
            "Coefficient for Frequency is -3.7978\n",
            "Coefficient for AngleOfAttack is -2.1493\n",
            "Coefficient for ChordLength is -3.3588\n",
            "Coefficient for FreeStreamVelocity is 1.5243\n",
            "Coefficient for SuctionSideDisplacement is -2.2251\n"
          ]
        }
      ],
      "source": [
        "print(\"Part 4 - Evaluation\")\n",
        "\n",
        "loadedmodel = loadedPipelineModel.stages[-1]\n",
        "totalstages = len(loadedPipelineModel.stages)\n",
        "inputcolumns = loadedPipelineModel.stages[0].getInputCols()\n",
        "\n",
        "print(\"Number of stages in the pipeline = \", totalstages)\n",
        "for i,j in zip(inputcolumns, loadedmodel.coefficients):\n",
        "    print(f\"Coefficient for {i} is {round(j,4)}\")"
      ]
    },
    {
      "cell_type": "markdown",
      "metadata": {
        "id": "vcc0YLLDDK2B"
      },
      "source": [
        "### Stop Spark Session\n"
      ]
    },
    {
      "cell_type": "code",
      "execution_count": 45,
      "metadata": {
        "tags": [],
        "id": "kO7tGzFdDK2B"
      },
      "outputs": [],
      "source": [
        "spark.stop()"
      ]
    },
    {
      "cell_type": "markdown",
      "metadata": {
        "id": "fLLFouN3DK2C"
      },
      "source": [
        "## Authors\n"
      ]
    },
    {
      "cell_type": "markdown",
      "metadata": {
        "id": "iw0C81BGDK2C"
      },
      "source": [
        "[salimt](https://github.com/salimt)\n"
      ]
    },
    {
      "cell_type": "markdown",
      "metadata": {
        "id": "ghoY2mH9DK2C"
      },
      "source": [
        "|Date (YYYY-MM-DD)|Version|Changed By|Change Description|\n",
        "|-|-|-|-|\n",
        "|2024-02-05|1|salimt|Published|\n"
      ]
    }
  ],
  "metadata": {
    "kernelspec": {
      "display_name": "Python",
      "language": "python",
      "name": "conda-env-python-py"
    },
    "language_info": {
      "codemirror_mode": {
        "name": "ipython",
        "version": 3
      },
      "file_extension": ".py",
      "mimetype": "text/x-python",
      "name": "python",
      "nbconvert_exporter": "python",
      "pygments_lexer": "ipython3",
      "version": "3.7.12"
    },
    "colab": {
      "provenance": []
    }
  },
  "nbformat": 4,
  "nbformat_minor": 0
}